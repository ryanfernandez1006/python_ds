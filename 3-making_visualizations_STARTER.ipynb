{
 "cells": [
  {
   "cell_type": "markdown",
   "metadata": {},
   "source": [
    "<!-- TITLE for 1-->\n",
    "# 1. Making a Histogram"
   ]
  },
  {
   "cell_type": "markdown",
   "metadata": {},
   "source": [
    "<!-- INTRODUCTION for 1-->\n",
    "In this lesson, you'll learn how to use matplotlib, a plotting library for Python, to create visualizations in the Jupyter notebook. Visualizing data is especially important during exploratory data analysis, as it can help you uncover trends and relationships between variables. Throughout this lesson, you'll be using the pyplot collection of functions within the matplotlib library. The matplotlib.pyplot functions track each change you make to a figure, like adding labels or changing colors, until you use`.show()` to reveal the final product.\n",
    "\n",
    "Here are the graphs you'll make:\n",
    "1. Histogram\n",
    "2. Scatterplot\n",
    "3. Bargraph\n",
    "4. Subplots\n",
    "5. Regplot with Seaborn\n",
    "\n",
    "Here, you'll learn to make one of each, but feel free to try plotting other combinations of variables to discover trends."
   ]
  },
  {
   "cell_type": "code",
   "execution_count": 2,
   "metadata": {},
   "outputs": [
    {
     "data": {
      "text/html": [
       "<div>\n",
       "<table border=\"1\" class=\"dataframe\">\n",
       "  <thead>\n",
       "    <tr style=\"text-align: right;\">\n",
       "      <th></th>\n",
       "      <th>CRIM</th>\n",
       "      <th>ZN</th>\n",
       "      <th>INDUS</th>\n",
       "      <th>CHAS</th>\n",
       "      <th>NOX</th>\n",
       "      <th>RM</th>\n",
       "      <th>AGE</th>\n",
       "      <th>DIS</th>\n",
       "      <th>RAD</th>\n",
       "      <th>TAX</th>\n",
       "      <th>PTRATIO</th>\n",
       "      <th>B</th>\n",
       "      <th>LSTAT</th>\n",
       "      <th>MEDV</th>\n",
       "    </tr>\n",
       "  </thead>\n",
       "  <tbody>\n",
       "    <tr>\n",
       "      <th>0</th>\n",
       "      <td>0.00632</td>\n",
       "      <td>18.0</td>\n",
       "      <td>2.31</td>\n",
       "      <td>0.0</td>\n",
       "      <td>0.538</td>\n",
       "      <td>6.575</td>\n",
       "      <td>65.2</td>\n",
       "      <td>4.0900</td>\n",
       "      <td>1.0</td>\n",
       "      <td>296.0</td>\n",
       "      <td>15.3</td>\n",
       "      <td>396.90</td>\n",
       "      <td>4.98</td>\n",
       "      <td>24.0</td>\n",
       "    </tr>\n",
       "    <tr>\n",
       "      <th>1</th>\n",
       "      <td>0.02731</td>\n",
       "      <td>0.0</td>\n",
       "      <td>7.07</td>\n",
       "      <td>0.0</td>\n",
       "      <td>0.469</td>\n",
       "      <td>6.421</td>\n",
       "      <td>78.9</td>\n",
       "      <td>4.9671</td>\n",
       "      <td>2.0</td>\n",
       "      <td>242.0</td>\n",
       "      <td>17.8</td>\n",
       "      <td>396.90</td>\n",
       "      <td>9.14</td>\n",
       "      <td>21.6</td>\n",
       "    </tr>\n",
       "    <tr>\n",
       "      <th>2</th>\n",
       "      <td>0.02729</td>\n",
       "      <td>0.0</td>\n",
       "      <td>7.07</td>\n",
       "      <td>0.0</td>\n",
       "      <td>0.469</td>\n",
       "      <td>7.185</td>\n",
       "      <td>61.1</td>\n",
       "      <td>4.9671</td>\n",
       "      <td>2.0</td>\n",
       "      <td>242.0</td>\n",
       "      <td>17.8</td>\n",
       "      <td>392.83</td>\n",
       "      <td>4.03</td>\n",
       "      <td>34.7</td>\n",
       "    </tr>\n",
       "    <tr>\n",
       "      <th>3</th>\n",
       "      <td>0.03237</td>\n",
       "      <td>0.0</td>\n",
       "      <td>2.18</td>\n",
       "      <td>0.0</td>\n",
       "      <td>0.458</td>\n",
       "      <td>6.998</td>\n",
       "      <td>45.8</td>\n",
       "      <td>6.0622</td>\n",
       "      <td>3.0</td>\n",
       "      <td>222.0</td>\n",
       "      <td>18.7</td>\n",
       "      <td>394.63</td>\n",
       "      <td>2.94</td>\n",
       "      <td>33.4</td>\n",
       "    </tr>\n",
       "    <tr>\n",
       "      <th>4</th>\n",
       "      <td>0.06905</td>\n",
       "      <td>0.0</td>\n",
       "      <td>2.18</td>\n",
       "      <td>0.0</td>\n",
       "      <td>0.458</td>\n",
       "      <td>7.147</td>\n",
       "      <td>54.2</td>\n",
       "      <td>6.0622</td>\n",
       "      <td>3.0</td>\n",
       "      <td>222.0</td>\n",
       "      <td>18.7</td>\n",
       "      <td>396.90</td>\n",
       "      <td>5.33</td>\n",
       "      <td>36.2</td>\n",
       "    </tr>\n",
       "  </tbody>\n",
       "</table>\n",
       "</div>"
      ],
      "text/plain": [
       "      CRIM    ZN  INDUS  CHAS    NOX     RM   AGE     DIS  RAD    TAX  \\\n",
       "0  0.00632  18.0   2.31   0.0  0.538  6.575  65.2  4.0900  1.0  296.0   \n",
       "1  0.02731   0.0   7.07   0.0  0.469  6.421  78.9  4.9671  2.0  242.0   \n",
       "2  0.02729   0.0   7.07   0.0  0.469  7.185  61.1  4.9671  2.0  242.0   \n",
       "3  0.03237   0.0   2.18   0.0  0.458  6.998  45.8  6.0622  3.0  222.0   \n",
       "4  0.06905   0.0   2.18   0.0  0.458  7.147  54.2  6.0622  3.0  222.0   \n",
       "\n",
       "   PTRATIO       B  LSTAT  MEDV  \n",
       "0     15.3  396.90   4.98  24.0  \n",
       "1     17.8  396.90   9.14  21.6  \n",
       "2     17.8  392.83   4.03  34.7  \n",
       "3     18.7  394.63   2.94  33.4  \n",
       "4     18.7  396.90   5.33  36.2  "
      ]
     },
     "execution_count": 2,
     "metadata": {},
     "output_type": "execute_result"
    }
   ],
   "source": [
    "# pre-run\n",
    "\n",
    "import pandas as pd\n",
    "import numpy as np\n",
    "import matplotlib.pyplot as plt\n",
    "from sklearn.datasets import load_boston\n",
    "\n",
    "\n",
    "dataset = load_boston()\n",
    "data = pd.DataFrame(dataset.data, columns = dataset.feature_names)\n",
    "data['MEDV'] = dataset.target\n",
    "data.head()"
   ]
  },
  {
   "cell_type": "markdown",
   "metadata": {},
   "source": [
    "<!-- TASK 1.1 -->\n",
    "## 1.1 Plot a Histogram\n",
    "A histogram shows the distribution of values for a given variable. Checking whether a variable has a normal or skewed distribution of values is important for certain statistical tests and can also help you better understand the data.\n",
    "\n",
    "Use the `.hist()` method to plot the distribution of pupil-teacher ratios."
   ]
  },
  {
   "cell_type": "code",
   "execution_count": null,
   "metadata": {
    "collapsed": true
   },
   "outputs": [],
   "source": [
    "## STARTER CODE for 1.1\n",
    "plt.hist()"
   ]
  },
  {
   "cell_type": "markdown",
   "metadata": {},
   "source": [
    "<!-- HINT for 1.1 -->\n",
    "Double click for hint.\n",
    "\n",
    "<!-- The `.hist()` method takes the array of values you want to plot as an argument. Add the column you want to plot inside the parentheses. -->"
   ]
  },
  {
   "cell_type": "markdown",
   "metadata": {},
   "source": [
    "<!-- TASK 1.2 -->\n",
    "## 1.2 Add a Title\n",
    "\n",
    "It's good practice to add a descriptive title to your plots. You can do this using the `.title()` method."
   ]
  },
  {
   "cell_type": "code",
   "execution_count": null,
   "metadata": {
    "collapsed": true
   },
   "outputs": [],
   "source": [
    "## STARTER CODE for 1.2\n",
    "plt.hist(data['PTRATIO'])\n",
    "plt.title()\n",
    "plt.show()"
   ]
  },
  {
   "cell_type": "markdown",
   "metadata": {},
   "source": [
    "<!-- HINT for 1.2 -->\n",
    "Double click for hint.\n",
    "\n",
    "<!-- Use `plt.title()` and don't forget quotation marks around the text! -->"
   ]
  },
  {
   "cell_type": "markdown",
   "metadata": {},
   "source": [
    "<!-- TASK 1.3 -->\n",
    "## 1.3 Change the Number of Bins\n",
    "\n",
    "The number of bins is how finely you want to divide your data on the histogram. Each bin corresponds to a bar on the histogram, so the more bins you specify, the more bars will appear. \n",
    "\n",
    "Set the number of bins to 20 using the key word argument `bins` inside the `.hist()` method."
   ]
  },
  {
   "cell_type": "code",
   "execution_count": null,
   "metadata": {
    "collapsed": true
   },
   "outputs": [],
   "source": [
    "## STARTER CODE for 1.3\n",
    "plt.hist(data['PTRATIO'])\n",
    "plt.show()"
   ]
  },
  {
   "cell_type": "markdown",
   "metadata": {},
   "source": [
    "<!-- HINT for 1.3-->\n",
    "Double click for hint.\n",
    "\n",
    "<!-- Inside the `plt.hist()` parentheses, set the keyword argument `bins` to the correct value. -->"
   ]
  },
  {
   "cell_type": "markdown",
   "metadata": {},
   "source": [
    "<!-- CONCLUSION for 1 -->\n",
    "In this lesson, you learned how to make a histogram with matplotlib, add a title, and change the number of bins. Next, you'll be making scatterplots."
   ]
  },
  {
   "cell_type": "markdown",
   "metadata": {},
   "source": [
    "<!-- TITLE for 2 -->\n",
    "# 2. Making a Scatterplot"
   ]
  },
  {
   "cell_type": "markdown",
   "metadata": {},
   "source": [
    "<!-- INTRODUCTION for 2 -->\n",
    "When you plotted the histogram, you only needed to specify one variable. For a scatterplot, you'll plot a variable on the x-axis and one on the y-axis. Each observation will appear as a point on the coordinate grid, and the shape and direction of points can tell you about the relationship between variables. Here, you'll plot the average number of rooms in a house against the house's median value."
   ]
  },
  {
   "cell_type": "markdown",
   "metadata": {},
   "source": [
    "<!-- TASK -->\n",
    "## 2.1 Plot two variables\n",
    "Here, you'll plot the relationship between average number of rooms per house (a predictor variable) and the median home values in a town (the target variable) using `.scatter()`. (Recall that these columns are named 'RM' and 'MEDV' in the dataframe).\n",
    "\n",
    "Enter the predictor and target variables to plot in the `.scatter()` function. You order them in the conventional way: x-variable first, then y-variable."
   ]
  },
  {
   "cell_type": "code",
   "execution_count": null,
   "metadata": {
    "collapsed": true
   },
   "outputs": [],
   "source": [
    "## STARTER CODE for 2.1\n",
    "plt.scatter()"
   ]
  },
  {
   "cell_type": "markdown",
   "metadata": {},
   "source": [
    "<!-- HINT for 2.1 -->\n",
    "Double click for hint.\n",
    "\n",
    "<!-- `.scatter()` takes arguments for the x and y variables (in that order). Specify these two variables using the dataframe slicing technique for columns. -->"
   ]
  },
  {
   "cell_type": "markdown",
   "metadata": {},
   "source": [
    "<!-- TASK 2.2 -->\n",
    "## 2.2 Add axis labels.\n",
    "\n",
    "It's good practice to label axes to make your graph more easily interpretable. Remember that matplotlib.pyplot tracks each successive modification to the figure until you use the `.plot()` method, so add these lines of code in the right place. Make sure your labels are meaningful and include units if applicable. If you can't remember what each variable represents, use `dataset.DESCR`."
   ]
  },
  {
   "cell_type": "code",
   "execution_count": null,
   "metadata": {
    "collapsed": true
   },
   "outputs": [],
   "source": [
    "## STARTER CODE FOR 2.2\n",
    "plt.scatter(data['RM'], data['MEDV'])\n",
    "# Add code here\n",
    "plt.show()"
   ]
  },
  {
   "cell_type": "markdown",
   "metadata": {},
   "source": [
    "<!-- HINT for 2.2-->\n",
    "Double click for hint.\n",
    "\n",
    "<!-- Use the `.xlabel()` and `.ylabel()` methods to specify titles, and don't forget to put them inside quotation marks! -->"
   ]
  },
  {
   "cell_type": "markdown",
   "metadata": {},
   "source": [
    "<!-- TASK 2.3 -->\n",
    "## 2.3 Change the color of the points\n",
    "\n",
    "To change the color of datapoints, you can add the keyword argument `color` inside the `.scatter()` method. The matplotlib library includes some built-in colors (blue, green, red, cyan, magenta, yellow, black, white). You can refer to these by typing the entire word, or using just the first letter\n",
    "\n",
    "Make the datapoints any color you want!"
   ]
  },
  {
   "cell_type": "code",
   "execution_count": null,
   "metadata": {
    "collapsed": true
   },
   "outputs": [],
   "source": [
    "## STARTER CODE for 2.3\n",
    "plt.scatter(data['RM'], data['MEDV'])\n",
    "plt.xlabel('Average number of rooms per dwelling')\n",
    "plt.ylabel('Median home value ($1000\\'s)')\n",
    "plt.show()"
   ]
  },
  {
   "cell_type": "markdown",
   "metadata": {},
   "source": [
    "<!-- HINT for 2.3 -->\n",
    "Double click for hint.\n",
    "\n",
    "<!-- A keyword argument is like a setting inside the function. Inside the brackets of `.scatter()`, type `color =` , followed by the color of your choice. Don't forget quotation marks around it! -->"
   ]
  },
  {
   "cell_type": "markdown",
   "metadata": {},
   "source": [
    "<!-- TASK 2.4 -->\n",
    "## 2.4 Add a third variable with color\n",
    "\n",
    "Right now, the graph is showing only variables: 'RM' and 'MEDV'. Sometimes, it's useful to incorporate a third dimension by using color. Here, you'll set the `c` argument inside the scatter method to equal the 'CHAS' column. This will plot the data points that border the Charles River in a different color."
   ]
  },
  {
   "cell_type": "code",
   "execution_count": null,
   "metadata": {
    "collapsed": true
   },
   "outputs": [],
   "source": [
    "## STARTER CODE for 2.4\n",
    "plt.scatter(data['RM'], data['MEDV'])\n",
    "plt.xlabel('Average number of rooms per dwelling')\n",
    "plt.ylabel('Median home value ($1000\\'s)')\n",
    "plt.show()"
   ]
  },
  {
   "cell_type": "markdown",
   "metadata": {},
   "source": [
    "<!-- HINT for 2.4 -->\n",
    "Double click for hint.\n",
    "\n",
    "<!-- Inside the `.scatter()` method, type `c =` , then the selected variable you want to highlight with color. -->"
   ]
  },
  {
   "cell_type": "markdown",
   "metadata": {},
   "source": [
    "<!-- CONCLUSION for 2 -->\n",
    "Nice scatterplot! From this graph, what can you tell about the relationship between number of rooms and median home value? Do you think number of rooms would be a good feature to consider when predicting home value?"
   ]
  },
  {
   "cell_type": "markdown",
   "metadata": {},
   "source": [
    "<!-- TITLE -->\n",
    "# 3. Making Bar Graphs"
   ]
  },
  {
   "cell_type": "markdown",
   "metadata": {},
   "source": [
    "<!-- INTRODUCTION for 3 -->\n",
    "Bar graphs are helpful when you want to compare the count or mean value of two different categories. Here, you'll plot the mean NOX values for homes in towns bordering the Charles River (CHAS = 1) and those not near the river (CHAS = 0)."
   ]
  },
  {
   "cell_type": "markdown",
   "metadata": {},
   "source": [
    "<!-- TASK 3.1 -->\n",
    "## 3.1 Set Bar Heights\n",
    "\n",
    "Bar graphs work a little differently than scatterplots or histograms in matplotlib because you need to specify the values for bar heights as well as the position for each bar along the x-axis.\n",
    "\n",
    "Set the variable `charles_height` equal to the mean of all NOX values for towns with CHAS = 1.\n",
    "\n",
    "Set the variable `no_charles_height` equal to the mean of all NOX values for towns with CHAS = 0."
   ]
  },
  {
   "cell_type": "code",
   "execution_count": null,
   "metadata": {
    "collapsed": true
   },
   "outputs": [],
   "source": [
    "## STARTER CODE for 3.1\n",
    "\n",
    "charles_height = np.mean(\n",
    "\n",
    "no_charles_height = np.mean("
   ]
  },
  {
   "cell_type": "markdown",
   "metadata": {},
   "source": [
    "<!-- HINT for 3.1-->\n",
    "Double click for hint.\n",
    "<!-- Filter for all rows where 'CHAS' = 1 by creating the Boolean mask `charles_mask = (data['CHAS'] == 1)`. You can now use the mask to slice your dataframe like this: `data[charles_mask]`. You can negate the mask to select all rows where CHAS = 0 like this: `~charles_mask` -->"
   ]
  },
  {
   "cell_type": "markdown",
   "metadata": {},
   "source": [
    "<!-- TASK 3.2 -->\n",
    "## 3.2 Set Bar Positions and Bar Width\n",
    "\n",
    "Since there are two series to plot (bounds a river or doesn't bound a river), you'll have to use the `.bar()` method twice. Each series will create a bar of the height you already defined, but you also have to specify where on the x-axis each bar goes, and how wide you want it to be. \n",
    "\n",
    "Look at the keyword arguments for `left`, `height`, and `width` inside the first instance of `.bar()`. What do you think they do?\n",
    "\n",
    "Set these arguments inside the second `.bar()` method to plot the `no_charles_height` series. "
   ]
  },
  {
   "cell_type": "code",
   "execution_count": null,
   "metadata": {
    "collapsed": true
   },
   "outputs": [],
   "source": [
    "## STARTER CODE for 3.2\n",
    "\n",
    "charles_mask = (data['CHAS'] == 1)\n",
    "\n",
    "charles_height = np.mean(data[charles_mask]['NOX'])\n",
    "\n",
    "no_charles_height = np.mean(data[~charles_mask]['NOX'])\n",
    "\n",
    "plt.bar(left = 1, height = charles_height, width = 0.5)\n",
    "plt.bar(\n",
    "plt.show()"
   ]
  },
  {
   "cell_type": "markdown",
   "metadata": {},
   "source": [
    "<!-- HINT for 3.2 -->\n",
    "Double click for hint.\n",
    "\n",
    "<!-- Try setting `left = 2` in for the second `.bar()` call. You can keep `width = 0.5` for both calls. -->"
   ]
  },
  {
   "cell_type": "markdown",
   "metadata": {},
   "source": [
    "<!-- TASK 3.3 -->\n",
    "## 3.3 Label the Bars\n",
    "\n",
    "Right now, you've plotted two bars so that the leftmost edge starts at 1 and 2, respectively. However, the axis doesn't make sense! These are the mean values of two categories that you're plotting, so you'll need to label appropriately. The `.xticks()` method takes two arguments: the location of each x-tick, and a list of labels.\n",
    "\n",
    "Enter `[1.25, 2.25]` as first argument of `.xticks()`.\n",
    "Then, enter a list of labels as the second argument."
   ]
  },
  {
   "cell_type": "code",
   "execution_count": null,
   "metadata": {
    "collapsed": true
   },
   "outputs": [],
   "source": [
    "## STARTER CODE for 3.3\n",
    "charles_mask = (data['CHAS'] == 1)\n",
    "\n",
    "charles_height = np.mean(data[charles_mask]['NOX'])\n",
    "\n",
    "no_charles_height = np.mean(data[~charles_mask]['NOX'])\n",
    "\n",
    "plt.bar(left = 1, height = charles_height, width = 0.5)\n",
    "plt.bar(left = 2, height = no_charles_height, width = 0.5)\n",
    "plt.xticks(\n",
    "plt.show()"
   ]
  },
  {
   "cell_type": "markdown",
   "metadata": {},
   "source": [
    "<!-- HINT -->\n",
    "Double click for hint.\n",
    "\n",
    "<!-- The `.xticks()` method doesn't take keywords, so you can enter each set of lists directly. Be careful to maintain the order: a list of two locations first, then a list of two labels. Since you plotted `charles_height` first, you should make the first label something like 'near Charles'. -->"
   ]
  },
  {
   "cell_type": "markdown",
   "metadata": {},
   "source": [
    "<!-- TASK -->\n",
    "## 3.4 Add More Labels and Title\n",
    "\n",
    "The graph is looking good, but it's still incomplete. Add an informative label for the y-axis and a title for the entire graph. If you want, try to change the color of each bar."
   ]
  },
  {
   "cell_type": "code",
   "execution_count": null,
   "metadata": {
    "collapsed": true
   },
   "outputs": [],
   "source": [
    "## STARTER CODE for 3.4\n",
    "charles_mask = (data['CHAS'] == 1)\n",
    "\n",
    "charles_height = np.mean(data[charles_mask]['NOX'])\n",
    "\n",
    "no_charles_height = np.mean(data[~charles_mask]['NOX'])\n",
    "\n",
    "plt.bar(left = 1, height = charles_height, width = 0.5)\n",
    "plt.bar(left = 2, height = no_charles_height, width = 0.5)\n",
    "plt.xticks([1.25, 2.25], ['near Charles', 'not near Charles'])\n",
    "# add your code here!\n",
    "plt.show()"
   ]
  },
  {
   "cell_type": "markdown",
   "metadata": {},
   "source": [
    "<!-- HINT for 3.4 -->\n",
    "Double click for hint.\n",
    "\n",
    "<!-- Remember that you can use `.ylabel()` and `.title()` to specify the y-axis label and graph title. -->"
   ]
  },
  {
   "cell_type": "markdown",
   "metadata": {},
   "source": [
    "<!-- CONCLUSION for 3 -->\n",
    "From this graph, what can you conclude about the relationship between proximity to the river and the nitric oxide concentration?"
   ]
  },
  {
   "cell_type": "markdown",
   "metadata": {},
   "source": [
    "<!-- TITLE -->\n",
    "# 4. Subplots"
   ]
  },
  {
   "cell_type": "markdown",
   "metadata": {},
   "source": [
    "<!-- INTRODUCTION for 4 -->\n",
    "In matplotlib, a figure is considered a container for graphs. So far, you've only plotted one graph per figure, with one x-axis and one y-axis. All changes you've made have been to the container itself, modifying the figure's axes and titles.\n",
    "\n",
    "However, sometimes you might want to plot two graphs side by side in the same figure to fit a particular layout in a publication, or just to make easier visual comparisons. To do this, you'll need to include two or more sets of axes within a figure, plot different variables on each set, and make individual modifications to each. You can do this in matplotlib by adding subplots.\n",
    "\n",
    "In this lesson, you'll plot AGE vs MEDV on one subplot, and RAD vs MEDV on the other."
   ]
  },
  {
   "cell_type": "markdown",
   "metadata": {},
   "source": [
    "<!-- TASK -->\n",
    "## 4.1 Add Axes\n",
    "\n",
    "When you call the `.bar()`, `.hist()`, or `.scatter()` methods, matplotlib implicitly creates a figure object to contain the barplot, histogram, or scatterplot. To manually add subplots, you have to explicitly create the figure to contain them first, using the `.figure()` method.\n",
    "\n",
    "Next, you add axes with the `.add_subplot()` method, which takes three integers as its first arguments. Imagine setting up a grid of subplots: the first argument specifies how many rows in the grid, the second specifies how many columns, and the third describes in which order to plot this particular set of axes. For instance, the first plot in a grid of 2 rows and three columns would be added like this: `fig.add_subplot(2,3,1)`. The second plot in that grid would be called like this: `fig.add_subplot(2,3,2)`. See the pattern? \n",
    "\n",
    "Add two axes to this figure, arranged in a single row with two columns."
   ]
  },
  {
   "cell_type": "code",
   "execution_count": null,
   "metadata": {
    "collapsed": true
   },
   "outputs": [],
   "source": [
    "## STARTER CODE for 4.1\n",
    "fig = plt.figure()\n",
    "ax1 =\n",
    "\n",
    "ax2 = "
   ]
  },
  {
   "cell_type": "markdown",
   "metadata": {},
   "source": [
    "<!-- HINT for 4.1 -->\n",
    "Double click for hint.\n",
    "\n",
    "<!-- Call the `.add_subplot()` method on the figure you've just created, like this: `fig.add_subplot(1,2,1)` -->"
   ]
  },
  {
   "cell_type": "markdown",
   "metadata": {},
   "source": [
    "<!-- TASK -->\n",
    "## 4.2 Plot on the Axes\n",
    "\n",
    "Now you can start plot two different sets of variables on each axis using any of the plotting methods we've already covered, and they'll be oriented side-by-side for easy comparison. \n",
    "\n",
    "On the first axis, create a scatterplot of AGE vs MEDV.\n",
    "\n",
    "On the second axis, create a scatterplot of RAD vs MEDV."
   ]
  },
  {
   "cell_type": "code",
   "execution_count": null,
   "metadata": {
    "collapsed": true
   },
   "outputs": [],
   "source": [
    "## STARTER CODE for 4.2\n",
    "fig = plt.figure()\n",
    "ax1 = fig.add_subplot(1,2,1)\n",
    "# add code here\n",
    "ax2 = fig.add_subplot(1,2,2)\n",
    "# add code here\n",
    "plt.show()"
   ]
  },
  {
   "cell_type": "markdown",
   "metadata": {},
   "source": [
    "<!-- HINT for 4.2 -->\n",
    "Double click for hint.\n",
    "\n",
    "<!-- Call the `.scatter()` method on `ax1` and `ax2` with the appropriate x and y variables. -->"
   ]
  },
  {
   "cell_type": "markdown",
   "metadata": {},
   "source": [
    "<!-- TASK -->\n",
    "## 4.3 Change Size\n",
    "\n",
    "Looking good, but let's make the graphs a little bigger. You can do this with the keyword argument `figsize` inside the `.figure()` parentheses. \n",
    "\n",
    "Pass the dimensions `(10,4)` into `.figure()` for the keyword argument `figsize`."
   ]
  },
  {
   "cell_type": "code",
   "execution_count": null,
   "metadata": {
    "collapsed": true
   },
   "outputs": [],
   "source": [
    "## STARTER CODE for 4.3\n",
    "fig = plt.figure()\n",
    "ax1 = fig.add_subplot(1,2,1)\n",
    "ax1.scatter(data['AGE'], data['MEDV'])\n",
    "ax2 = fig.add_subplot(1,2,2)\n",
    "ax2.scatter(data['RAD'], data['MEDV'])\n",
    "plt.show()"
   ]
  },
  {
   "cell_type": "markdown",
   "metadata": {},
   "source": [
    "<!-- HINT for 4.3 -->\n",
    "Double click for hint.\n",
    "\n",
    "<!-- Add `figsize = (10,4)` inside the `.figure()` parentheses in the first line of your code. -->"
   ]
  },
  {
   "cell_type": "markdown",
   "metadata": {},
   "source": [
    "<!-- TASK 4.4 -->\n",
    "## 4.4 Format Axes and Label\n",
    "\n",
    "Much better. Since the x-axis variables (AGE and RAD) are non-negative quantities, the x-axes don't need to go past zero, and since AGE is a percent, it shouldn't range higher than 100. You can set the ranges for these variables on each axis with the `.set_xlim()` method. Figure and axes share similar methods, but the naming convention is such that all methods start with \"set\" for axes. For instance, to set the x-axis for a figure, you'd simply use `plt.xlim()`, but changing each axis independently requires `.set_xlim()` called for each axis you want to change.\n",
    "\n",
    "Make the x-axis ranges positive, then add descriptive axis labels for both x and y.\n",
    "Don't forget to label the x and y axes, but this time use `.set_xlabel()` and `.set_ylabel()`.\n",
    "You can set a title above both figures using `.suptitle()`."
   ]
  },
  {
   "cell_type": "code",
   "execution_count": null,
   "metadata": {
    "collapsed": true
   },
   "outputs": [],
   "source": [
    "## STARTER CODE for 4.4\n",
    "fig = plt.figure(figsize = (10,4))\n",
    "ax1 = fig.add_subplot(1,2,1)\n",
    "ax1.scatter(data['AGE'], data['MEDV'])\n",
    "ax1.set_xlim() # complete these lines\n",
    "ax1.set_xlabel()\n",
    "ax1.set_ylabel()\n",
    "ax2 = fig.add_subplot(1,2,2)\n",
    "ax2.scatter(data['RAD'], data['MEDV'])\n",
    "# add code here\n",
    "plt.show()"
   ]
  },
  {
   "cell_type": "markdown",
   "metadata": {},
   "source": [
    "<!-- HINT for 4.4 -->\n",
    "Double click for hint.\n",
    "\n",
    "<!-- To set the x-axis limits for AGE, use `ax1.set_xlim(0,100)`. -->"
   ]
  },
  {
   "cell_type": "markdown",
   "metadata": {},
   "source": [
    "<!-- CONCLUSION for 4 -->\n",
    "Since the y-axis for both of these plots is the same, you can compare the effects of the proportion of old homes and the accessibility to highways on median home value. Which one seems to have a greater affect? Do you notice any trends?"
   ]
  },
  {
   "cell_type": "markdown",
   "metadata": {},
   "source": [
    "<!-- TITLE -->\n",
    "# 5. Plotting with Seaborn"
   ]
  },
  {
   "cell_type": "markdown",
   "metadata": {},
   "source": [
    "<!-- INTRODUCTION to 5 -->\n",
    "Seaborn is a related visualization library built on top of matplotlib. It adds some functionality and beauty to the more basic matplotlib visualizations. Here, you'll duplicate the scatterplot you already made, but in seaborn, to highlight some of the different features between the two libraries."
   ]
  },
  {
   "cell_type": "markdown",
   "metadata": {},
   "source": [
    "<!-- TASK 5.1 -->\n",
    "## 5.1 Using Seaborn for Line Plots\n",
    "\n",
    "Use Seaborn's `.regplot()` function to plot the average number of rooms vs median home value.\n",
    "Set the y-axis range to `(0,60)`."
   ]
  },
  {
   "cell_type": "code",
   "execution_count": null,
   "metadata": {
    "collapsed": true
   },
   "outputs": [],
   "source": [
    "## STARTER CODE for 5.1\n",
    "import seaborn as sns\n",
    "\n",
    "sns.regplot()\n",
    "plt.show()"
   ]
  },
  {
   "cell_type": "markdown",
   "metadata": {},
   "source": [
    "<!-- HINT for 5.1 -->\n",
    "Double click for hint.\n",
    "\n",
    "<!-- Add the RM and MEDV series as arguments to the `.regplot()` method. -->"
   ]
  },
  {
   "cell_type": "markdown",
   "metadata": {},
   "source": [
    "<!-- TASK -->\n",
    "## 5.2 Format the Plot\n",
    "\n",
    "You've undoubtedly noticed a few differences between this plot and the first scatterplot. By default, seaborn plots on a light gray grid, labels the axes for you, and includes a trend line indicating the best fit between these two variables with lighter confidence intervals around it. You can alter these features using arguments to `.regplot()` or overwrite them using matplotlib functionality.\n",
    "\n",
    "Make the axis labels more informative with the `.xlabel()` and `.ylabel()` methods."
   ]
  },
  {
   "cell_type": "code",
   "execution_count": null,
   "metadata": {
    "collapsed": true
   },
   "outputs": [],
   "source": [
    "## STARTER CODE for 5.2\n",
    "import seaborn as sns\n",
    "\n",
    "sns.regplot(data['RM'], data['MEDV'])\n",
    "plt.ylim(0,60)\n",
    "# add code here\n",
    "plt.show()"
   ]
  },
  {
   "cell_type": "markdown",
   "metadata": {},
   "source": [
    "<!-- HINT for 5.2-->\n",
    "Double click for hint.\n",
    "\n",
    "<!-- Use `plt.xlabel()` and `plt.ylabel()` the same way you did for the scatterplot. Don't forget parenthese around label names! -->"
   ]
  },
  {
   "cell_type": "markdown",
   "metadata": {},
   "source": [
    "<!-- TASK 5.3-->\n",
    "## 5.3 Format the grid\n",
    "\n",
    "By default, seaborn will plot on a dark grid like the one above. However, if you feel this competes with other data elements and makes your plot harder to interpret, you can change it or even eliminate it by calling `sns.set_style()`.\n",
    "In general, it's good practice to eliminate excess lines and tick marks on your plots to optimize the data to ink ratio. You want to display the most information with the fewest extra lines to eliminate distractions.\n",
    "\n",
    "Eliminate the grid with the by using the argument 'white' with `sns.set_style()`. Check out the seaborn [documentation](http://seaborn.pydata.org/tutorial/aesthetics.html) to learn about other keywords, and try them out.\n",
    "\n",
    "Eliminate the spines of the graph with `sns.despine()`. Read the documentation to learn more."
   ]
  },
  {
   "cell_type": "code",
   "execution_count": null,
   "metadata": {
    "collapsed": true
   },
   "outputs": [],
   "source": [
    "## STARTER CODE for 5.3\n",
    "# add code here\n",
    "sns.regplot(data['RM'], data['MEDV'])\n",
    "# add more down here!\n",
    "plt.ylim(0,60)\n",
    "plt.xlabel(\"Mean number of rooms per home\")\n",
    "plt.ylabel('Median home value')\n",
    "plt.show()"
   ]
  },
  {
   "cell_type": "markdown",
   "metadata": {},
   "source": [
    "<!-- HINT for 5.3 -->\n",
    "Double click for hint.\n",
    "\n",
    "<!-- Use `sns.set_style()` with the keyword of your choice to change the appearance of the plot. -->"
   ]
  },
  {
   "cell_type": "markdown",
   "metadata": {},
   "source": [
    "<!-- TASK 5.4 -->\n",
    "## 5.4 Remove Trendline\n",
    "\n",
    "By default, `.regplot()` adds a trendline and confidence intervals. Both can be modified or removed by using keyword arguments inside the regplot parentheses. Read more in the regplot [documentation](http://seaborn.pydata.org/generated/seaborn.regplot.html).\n",
    "\n",
    "Try setting the confidence intervals to 50.\n",
    "Try setting them to None.\n",
    "Now, eliminate the trendline entirely."
   ]
  },
  {
   "cell_type": "code",
   "execution_count": null,
   "metadata": {
    "collapsed": true
   },
   "outputs": [],
   "source": [
    "## STARTER CODE for 5.4\n",
    "sns.set_style('white')\n",
    "sns.regplot(data['RM'], data['MEDV'])\n",
    "sns.despine()\n",
    "plt.ylim(0,60)\n",
    "plt.xlabel(\"Mean number of rooms per home\")\n",
    "plt.ylabel('Median home value')\n",
    "plt.show()"
   ]
  },
  {
   "cell_type": "markdown",
   "metadata": {},
   "source": [
    "<!-- HINT for 5.4 -->\n",
    "Double click for hint.\n",
    "\n",
    "<!-- Change the values of the `ci` and `fit_reg` keyword arguments inside the `.regplot()` function. -->"
   ]
  },
  {
   "cell_type": "markdown",
   "metadata": {},
   "source": [
    "<!-- CONCLUSION for 5.4 -->\n",
    "Hopefully, you've seen how seaborn can improve the aesthetics of matplotlib visualizations. When you're making plots for your own consumption during exploratory data analysis, matplotlib should suffice. However, if you want to create visualizations for publication or presentation, the extra features of seaborn might come in handy. There's plenty more that can be done with both libraries, so feel free to read more in the [matplotlib docs](http://matplotlib.org/index.html) and the [seaborn docs](http://seaborn.pydata.org/)."
   ]
  }
 ],
 "metadata": {
  "anaconda-cloud": {},
  "kernelspec": {
   "display_name": "Python 2",
   "language": "python",
   "name": "python2"
  },
  "language_info": {
   "codemirror_mode": {
    "name": "ipython",
    "version": 2
   },
   "file_extension": ".py",
   "mimetype": "text/x-python",
   "name": "python",
   "nbconvert_exporter": "python",
   "pygments_lexer": "ipython2",
   "version": "2.7.13"
  }
 },
 "nbformat": 4,
 "nbformat_minor": 1
}
