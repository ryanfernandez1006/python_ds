{
 "cells": [
  {
   "cell_type": "markdown",
   "metadata": {},
   "source": [
    "<!-- INTRODUCTION -->\n",
    "# An introduction to pandas\n",
    "\n",
    "In this introduction we'll explore the pandas library and some common use cases for working with data."
   ]
  },
  {
   "cell_type": "markdown",
   "metadata": {},
   "source": [
    "<!-- TITLE -->\n",
    "# Importing the data"
   ]
  },
  {
   "cell_type": "markdown",
   "metadata": {},
   "source": [
    "<!-- TASK 1.1-->\n",
    "## Importing the appropriate libraries\n",
    "\n",
    "In this example we'll load four commonly used libraries in data science. I'll give a brief overview of each to get you familiar with them. We'll be using these throughout the course and so I'll go into greater detail as we go along."
   ]
  },
  {
   "cell_type": "code",
   "execution_count": 3,
   "metadata": {
    "collapsed": true
   },
   "outputs": [],
   "source": [
    "## STARTER CODE\n",
    "import pandas as pd\n",
    "import numpy as np\n",
    "import matplotlib.pyplot as plt\n",
    "from sklearn.datasets import load_boston\n",
    "\n",
    "# makes the dataframes easier to view. Just formatting.\n",
    "from IPython.core.interactiveshell import InteractiveShell\n",
    "InteractiveShell.ast_node_interactivity = \"all\""
   ]
  },
  {
   "cell_type": "markdown",
   "metadata": {},
   "source": [
    "<!-- HINT for 1.1-->\n",
    "Just run the cell"
   ]
  },
  {
   "cell_type": "markdown",
   "metadata": {},
   "source": [
    "<!-- TASK for 1.2-->\n",
    "## Load the boston dataset\n",
    "\n",
    "Call the `load_boston()` function that we just imported from the sklearn library and assign the result to a variable named `boston`, and print it. (`Ctrl + Enter` will run the cell for you & `Shift + Enter` will run the cell for you and move to the next cell). As you can see the dataset looks a little messy. The boston dataset we imported from sklearn is structured as a dictionary with 4 different keys ('data', 'DESCR', 'feature_names' and 'target'). Note that the keys are case sensitive! We can access the data within each of these keys by printing `boston.data` or `boston.DESCR` to view the contents of those keys individually. Note that tab completion is available when using jupyter notebooks so if you type `boston.` then use `TAB`, this will show you all the available options. Print each of those contents individually to get a feel for the structure of the dataset."
   ]
  },
  {
   "cell_type": "code",
   "execution_count": 24,
   "metadata": {
    "collapsed": false
   },
   "outputs": [],
   "source": [
    "## STARTER CODE\n",
    "boston = \n",
    "print "
   ]
  },
  {
   "cell_type": "markdown",
   "metadata": {},
   "source": [
    "<!-- HINT for 1.2-->\n",
    "Double Click For Hint\n",
    "<!-- Print boston.data, boston.DESCR, boston.target and boston.feature_names -->"
   ]
  },
  {
   "cell_type": "markdown",
   "metadata": {},
   "source": [
    "<!-- TASK for 1.3-->\n",
    "## Convert the boston dataset to a pandas dataframe\n",
    "\n",
    "We now have all the data we need to pull together a dataframe. A pandas dataframe is basically a supercharged Excel workbook. It has the familiar layout as an Excel workbook as a 2-d tabular structure with columns and rows. However, it's optimized for performing large calculations at speed. So as your datasets get larger you're able to keep up!\n",
    "\n",
    "In the below example we are going to create a pandas dataframe and assign it to the variable `boston_df`. Note the capitalization on `pd.DataFrame()` as this is necessary when calling the function. Create the dataframe by setting the data parameter equal to one of `boston.data`, `boston.DESCR`, `boston.target` or `boston.feature_names`. Then do the same with the columns parameter. Then call the `.head()` and `.tail()` methods and the `.shape` attribute on your newly created dataframe to view the first 5 rows, the last 5 rows and the number of rows and columns respectively."
   ]
  },
  {
   "cell_type": "code",
   "execution_count": 27,
   "metadata": {
    "collapsed": false
   },
   "outputs": [],
   "source": [
    "## STARTER CODE\n",
    "boston_df = pd.DataFrame(data=, columns=)\n",
    "type(boston_df)"
   ]
  },
  {
   "cell_type": "markdown",
   "metadata": {},
   "source": [
    "<!-- HINT for 1.3-->\n",
    "Double Click For Hint\n",
    "<!-- Call the `.head()` and `.tail()` methods on the boston_df. Shape is an attribute so you don't need parenthesis. -->"
   ]
  },
  {
   "cell_type": "markdown",
   "metadata": {},
   "source": [
    "<!-- TASK for 1.4-->\n",
    "## Display the index, columns and underlying numpy array data\n",
    "\n",
    "Explore various attributes of the dataframe we've created. In the code below call the following attributes: index, columns, and values. Then call the `.describe()` and `.info()` methods to show a quick summaries of the data. Describe provides a statistical summary and info provides the index, datatype and memory information."
   ]
  },
  {
   "cell_type": "code",
   "execution_count": 155,
   "metadata": {
    "collapsed": false
   },
   "outputs": [],
   "source": [
    "## STARTER CODE\n",
    "# call the index attribute\n",
    "# call the columns attribute\n",
    "# call the values attribute\n",
    "# call the info attribute\n",
    "# call the .describe() method"
   ]
  },
  {
   "cell_type": "markdown",
   "metadata": {},
   "source": [
    "<!-- HINT for 1.4-->\n",
    "Double Click For Hint\n",
    "<!-- Use the keywords in the description as methods or attributes.-->"
   ]
  },
  {
   "cell_type": "markdown",
   "metadata": {},
   "source": [
    "<!-- TASK for 1.5-->\n",
    "## Explore Transpose, sorting by index and sorting by a column value\n",
    "\n",
    "In the code below call the `.sort_values()` and `.sort_index()` methods. In both cases you will need to pass through certain parameters to indicate the values you want to sort by and whether you want to sort by ascending or descending. We will also use the `.T` attribute to transpose the dataframe. Once you've completed these three tasks try limiting the results returned by each by calling the .head() method at the end of the sort method called. You can also specify the number of values to take from the beginning by passing an integer in the head method. So if you wanted 8 values at the beginning of the dataframe you would pass `.head(8)`. Also see what happens if you change keyword argument `axis` from 0 to 1 and `ascending` from `True` to `False`. Can you figure out what is going on?"
   ]
  },
  {
   "cell_type": "code",
   "execution_count": 42,
   "metadata": {
    "collapsed": false
   },
   "outputs": [],
   "source": [
    "## STARTER CODE\n",
    "# call the sort_index() method and pass axis=0 and ascending=True\n",
    "# call the sort_values() method and pass a column name in quotes to the by= parameter\n",
    "# call the T attribute to transpose the dataframe"
   ]
  },
  {
   "cell_type": "markdown",
   "metadata": {},
   "source": [
    "<!-- HINT for 1.5-->\n",
    "Double Click For Hint\n",
    "<!-- The order for calling methods and passing parameters would look like this: `boston_df.sort_method(define parameters).head()` with the desired number of rows inside the `.head()` function. -->"
   ]
  },
  {
   "cell_type": "markdown",
   "metadata": {},
   "source": [
    "<!-- CONCLUSION for 1-->\n",
    "Great job completing these tasks!"
   ]
  },
  {
   "cell_type": "markdown",
   "metadata": {},
   "source": [
    "<!-- TITLE -->\n",
    "# Slicing & Selecting"
   ]
  },
  {
   "cell_type": "markdown",
   "metadata": {},
   "source": [
    "<!-- INTRODUCTION For 2-->\n",
    "## Selecting data by columns or rows\n",
    "\n",
    "One of the most important things you will learn and where you'll spend a lot of time getting good is learning how to properly slice and select your data to give you the information you want. At first we will go through the basics in these topics and add some additional difficulty."
   ]
  },
  {
   "cell_type": "markdown",
   "metadata": {},
   "source": [
    "<!-- TASK 2.1-->\n",
    "In pandas dataframes we can select a single column by passing the column name as a parameter to the dataframe. Running `boston_df['CRIM']` will select only the CRIM column as a pandas Series. If we want to select specific rows by index we can also pass them through as a argument to the dataframe. Running `boston_df[0:9]` will select the first 10 rows from index position 0-9. Alternatively, we do not need to specify the 0, so `boston_df[:10]` does the same thing. Finally, utilizing a colon on its own will select all rows in the dataframe."
   ]
  },
  {
   "cell_type": "code",
   "execution_count": 94,
   "metadata": {
    "collapsed": false
   },
   "outputs": [],
   "source": [
    "## STARTER CODE\n",
    "boston_df[] # select the single column 'TAX'\n",
    "boston_df[] # select the first 5 rows\n",
    "boston_df[] # select all rows"
   ]
  },
  {
   "cell_type": "markdown",
   "metadata": {},
   "source": [
    "<!-- HINT for 2.1-->\n",
    "Double Click For Hint\n",
    "<!-- Remember to pass the column name in as a string and be aware of case. When selecting rows the colon acts as the intermediate to specify a range of numbers. -->"
   ]
  },
  {
   "cell_type": "markdown",
   "metadata": {},
   "source": [
    "<!-- TASK 2.2 -->\n",
    "## Selection by label\n",
    "\n",
    "In the below code we'll work on getting a selection of the dataframe by a given label or set of labels. We will use `.loc[]` which functions as a label-location based indexer for selection by label. When using `.loc[]` the first argument passed indicates information about the rows you want to select, and the second argument (separated) by a comma indicates the information about the columns you want to select. So `boston_df.loc[10:20, ['AGE', 'TAX']]` would select rows 10 to 20 inclusive of both 10 and 20 (11 total rows) and the columns 'AGE' and 'TAX'."
   ]
  },
  {
   "cell_type": "code",
   "execution_count": null,
   "metadata": {
    "collapsed": true
   },
   "outputs": [],
   "source": [
    "## STARTER CODE for 2.2\n",
    "boston_df.loc[] # select the first 6 rows and columns AGE and LSTAT\n",
    "boston_df.loc[] # select rows 5-10 and columns ZN and RM\n",
    "boston_df.loc[] # select all rows and all columns FROM AGE to LSTAT"
   ]
  },
  {
   "cell_type": "markdown",
   "metadata": {},
   "source": [
    "<!-- HINT for 2.2 -->\n",
    "Double Click For Hint\n",
    "<!-- Remember that you specify the rows you want to access first followed by columns. Also since we're using `.loc` the values you pass through are the values. So for the columns you need to pass through the string corresponding to that column. -->"
   ]
  },
  {
   "cell_type": "markdown",
   "metadata": {},
   "source": [
    "<!-- TASK 2.3 -->\n",
    "## Selection of values based on index location\n",
    "\n",
    "What if we don't know the names of the index positions or columns? We can use `.iloc[]` to select what rows and columns we want purely by an integer index value. In this instance we can't pass column names through we will need to refer to them by their index position. So if we wanted to pull the first five rows for the 'CRIM', 'ZN' and 'B' columns our code would look like this `boston_df.iloc[:5, [0, 1, 12]]`. Where 0, 1 and 12 represent the columns 'CRIM', 'ZN' and 'B' index locations respectively. Note that unlike `.loc[]`, using a range with `.iloc[]` is not inclusive on the upper end of the range. So a range of 0:5 returns 0, 1, 2, 3, 4 as values."
   ]
  },
  {
   "cell_type": "code",
   "execution_count": null,
   "metadata": {
    "collapsed": true
   },
   "outputs": [],
   "source": [
    "## STARTER CODE for 2.3\n",
    "boston_df.iloc[] # select the first 8 rows and columns from index position 5 and on.\n",
    "boston_df.iloc[] # select rows 100 to 109 and columns from index position 6 to 9\n",
    "boston_df.iloc[] # select the first 5 rows and columns 'CRIM', 'ZN' and 'RM'"
   ]
  },
  {
   "cell_type": "markdown",
   "metadata": {},
   "source": [
    "<!-- HINT for 2.3 -->\n",
    "Double Click For Hint\n",
    "<!-- Remember that with `.iloc[]` we can only refer to integer index locations. Also remember that with `.loc[]` and `.iloc[]` we define the rows we want to select first, then columns. -->"
   ]
  },
  {
   "cell_type": "markdown",
   "metadata": {},
   "source": [
    "<!-- CONCLUSION for 2-->\n",
    "Great job slicing and dicing the dataframe."
   ]
  },
  {
   "cell_type": "code",
   "execution_count": null,
   "metadata": {
    "collapsed": true
   },
   "outputs": [],
   "source": []
  }
 ],
 "metadata": {
  "anaconda-cloud": {},
  "kernelspec": {
   "display_name": "Python [default]",
   "language": "python",
   "name": "python2"
  },
  "language_info": {
   "codemirror_mode": {
    "name": "ipython",
    "version": 2
   },
   "file_extension": ".py",
   "mimetype": "text/x-python",
   "name": "python",
   "nbconvert_exporter": "python",
   "pygments_lexer": "ipython2",
   "version": "2.7.13"
  }
 },
 "nbformat": 4,
 "nbformat_minor": 1
}
